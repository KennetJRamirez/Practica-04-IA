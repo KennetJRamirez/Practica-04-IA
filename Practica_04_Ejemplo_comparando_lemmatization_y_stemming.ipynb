{
  "nbformat": 4,
  "nbformat_minor": 0,
  "metadata": {
    "colab": {
      "provenance": []
    },
    "kernelspec": {
      "name": "python3",
      "display_name": "Python 3"
    },
    "language_info": {
      "name": "python"
    }
  },
  "cells": [
    {
      "cell_type": "markdown",
      "source": [
        "# Instrucciones de Actividad\n",
        "Realice 1 ejemplo comparando lemmatization y stemming\n",
        "\n",
        "\n",
        "\n",
        "---\n",
        "\n"
      ],
      "metadata": {
        "id": "FzKVgGwgvHpX"
      }
    },
    {
      "cell_type": "code",
      "source": [
        "# Descargando el paquete\n",
        "!python -m spacy download es_core_news_sm"
      ],
      "metadata": {
        "colab": {
          "base_uri": "https://localhost:8080/",
          "height": 0
        },
        "id": "6ljC9nLVsfYR",
        "outputId": "013cb5a6-05b8-42da-9c03-23c58bd80b54"
      },
      "execution_count": 9,
      "outputs": [
        {
          "output_type": "stream",
          "name": "stdout",
          "text": [
            "Collecting es-core-news-sm==3.8.0\n",
            "  Downloading https://github.com/explosion/spacy-models/releases/download/es_core_news_sm-3.8.0/es_core_news_sm-3.8.0-py3-none-any.whl (12.9 MB)\n",
            "\u001b[2K     \u001b[90m━━━━━━━━━━━━━━━━━━━━━━━━━━━━━━━━━━━━━━━━\u001b[0m \u001b[32m12.9/12.9 MB\u001b[0m \u001b[31m64.0 MB/s\u001b[0m eta \u001b[36m0:00:00\u001b[0m\n",
            "\u001b[?25hInstalling collected packages: es-core-news-sm\n",
            "Successfully installed es-core-news-sm-3.8.0\n",
            "\u001b[38;5;2m✔ Download and installation successful\u001b[0m\n",
            "You can now load the package via spacy.load('es_core_news_sm')\n",
            "\u001b[38;5;3m⚠ Restart to reload dependencies\u001b[0m\n",
            "If you are in a Jupyter or Colab notebook, you may need to restart Python in\n",
            "order to load all the package's dependencies. You can do this by selecting the\n",
            "'Restart kernel' or 'Restart runtime' option.\n"
          ]
        }
      ]
    },
    {
      "cell_type": "code",
      "execution_count": 22,
      "metadata": {
        "colab": {
          "base_uri": "https://localhost:8080/",
          "height": 0
        },
        "id": "3UlTTxnBlohr",
        "outputId": "a245ec65-b1ee-44d8-aeab-7a9ce6f2537d"
      },
      "outputs": [
        {
          "output_type": "stream",
          "name": "stderr",
          "text": [
            "[nltk_data] Downloading package punkt_tab to /root/nltk_data...\n",
            "[nltk_data]   Package punkt_tab is already up-to-date!\n"
          ]
        }
      ],
      "source": [
        "# Librerias\n",
        "import nltk\n",
        "nltk.download('punkt_tab')\n",
        "from nltk.stem import SnowballStemmer\n",
        "import spacy"
      ]
    },
    {
      "cell_type": "code",
      "source": [
        "# Texto de ejemplo\n",
        "texto = \"\"\"Tras acceder a la Universidad, Hinako se muda a un pueblo de la costa. Allí se dedica a coger olas, pues se siente invencible cuando surfea, pera sigue sin tener claro qué le depara el futuro. Cuando se desata un fuego en el pueblo, Hinako conoce al joven bombero Minato. A medida que ambos comparten su tiempo mientras se dedican a su deporte favorito, Hinako comienza a darse cuenta de que lo que más desea en el mundo es, como Minato, ayudar a otras personas. (FILMAFFINITY)\"\"\""
      ],
      "metadata": {
        "id": "Zr-Ik8aMq2Hm"
      },
      "execution_count": 23,
      "outputs": []
    },
    {
      "cell_type": "code",
      "source": [
        "# STEMMING\n",
        "stemmer = SnowballStemmer(\"spanish\") # Usamos el stemmer  español\n",
        "tokens = texto.lower().split() # Convertimos el texto a minúsculas y lo separamos en palabras\n",
        "stems = [stemmer.stem(token) for token in tokens]  # Obtenemos el stem de cada palabra"
      ],
      "metadata": {
        "id": "3pkRe2Psrwlp"
      },
      "execution_count": 25,
      "outputs": []
    },
    {
      "cell_type": "code",
      "source": [
        "print(\"Stemming:\")\n",
        "print(list(zip(tokens, stems))) # Mostramos palabra original y su stem"
      ],
      "metadata": {
        "colab": {
          "base_uri": "https://localhost:8080/",
          "height": 0
        },
        "id": "Jmsot5Yhr0_k",
        "outputId": "3df2732f-06fc-4d75-b2fb-2c2505b71a63"
      },
      "execution_count": 26,
      "outputs": [
        {
          "output_type": "stream",
          "name": "stdout",
          "text": [
            "Stemming:\n",
            "[('tras', 'tras'), ('acceder', 'acced'), ('a', 'a'), ('la', 'la'), ('universidad,', 'universidad,'), ('hinako', 'hinak'), ('se', 'se'), ('muda', 'mud'), ('a', 'a'), ('un', 'un'), ('pueblo', 'puebl'), ('de', 'de'), ('la', 'la'), ('costa.', 'costa.'), ('allí', 'alli'), ('se', 'se'), ('dedica', 'dedic'), ('a', 'a'), ('coger', 'cog'), ('olas,', 'olas,'), ('pues', 'pues'), ('se', 'se'), ('siente', 'sient'), ('invencible', 'invenc'), ('cuando', 'cuand'), ('surfea,', 'surfea,'), ('pera', 'per'), ('sigue', 'sig'), ('sin', 'sin'), ('tener', 'ten'), ('claro', 'clar'), ('qué', 'que'), ('le', 'le'), ('depara', 'dep'), ('el', 'el'), ('futuro.', 'futuro.'), ('cuando', 'cuand'), ('se', 'se'), ('desata', 'desat'), ('un', 'un'), ('fuego', 'fueg'), ('en', 'en'), ('el', 'el'), ('pueblo,', 'pueblo,'), ('hinako', 'hinak'), ('conoce', 'conoc'), ('al', 'al'), ('joven', 'jov'), ('bombero', 'bomber'), ('minato.', 'minato.'), ('a', 'a'), ('medida', 'med'), ('que', 'que'), ('ambos', 'ambos'), ('comparten', 'compart'), ('su', 'su'), ('tiempo', 'tiemp'), ('mientras', 'mientr'), ('se', 'se'), ('dedican', 'dedic'), ('a', 'a'), ('su', 'su'), ('deporte', 'deport'), ('favorito,', 'favorito,'), ('hinako', 'hinak'), ('comienza', 'comienz'), ('a', 'a'), ('darse', 'dars'), ('cuenta', 'cuent'), ('de', 'de'), ('que', 'que'), ('lo', 'lo'), ('que', 'que'), ('más', 'mas'), ('desea', 'dese'), ('en', 'en'), ('el', 'el'), ('mundo', 'mund'), ('es,', 'es,'), ('como', 'com'), ('minato,', 'minato,'), ('ayudar', 'ayud'), ('a', 'a'), ('otras', 'otras'), ('personas.', 'personas.'), ('(filmaffinity)', '(filmaffinity)')]\n"
          ]
        }
      ]
    },
    {
      "cell_type": "code",
      "source": [
        "# LEMMATIZATION\n",
        "nlp = spacy.load(\"es_core_news_sm\") # Cargamos el modelo de spaCy para español\n",
        "doc = nlp(texto)\n",
        "lemmas = [(token.text, token.lemma_) for token in doc] # Obtenemos el lema de cada palabra"
      ],
      "metadata": {
        "id": "xXcXkkoir29E"
      },
      "execution_count": 27,
      "outputs": []
    },
    {
      "cell_type": "code",
      "source": [
        "print(\"\\nLemmatization:\")\n",
        "print(lemmas) # Mostramos palabra original y su lema"
      ],
      "metadata": {
        "colab": {
          "base_uri": "https://localhost:8080/",
          "height": 0
        },
        "id": "Jpvekpxyr60c",
        "outputId": "bc3b08b2-4027-4caa-bd63-f825a7e570cb"
      },
      "execution_count": 28,
      "outputs": [
        {
          "output_type": "stream",
          "name": "stdout",
          "text": [
            "\n",
            "Lemmatization:\n",
            "[('Tras', 'tras'), ('acceder', 'acceder'), ('a', 'a'), ('la', 'el'), ('Universidad', 'Universidad'), (',', ','), ('Hinako', 'Hinako'), ('se', 'él'), ('muda', 'mudar'), ('a', 'a'), ('un', 'uno'), ('pueblo', 'pueblo'), ('de', 'de'), ('la', 'el'), ('costa', 'costa'), ('.', '.'), ('Allí', 'allí'), ('se', 'él'), ('dedica', 'dedicar'), ('a', 'a'), ('coger', 'coger'), ('olas', 'ola'), (',', ','), ('pues', 'pues'), ('se', 'él'), ('siente', 'sentir'), ('invencible', 'invencible'), ('cuando', 'cuando'), ('surfea', 'surfea'), (',', ','), ('pera', 'pera'), ('sigue', 'seguir'), ('sin', 'sin'), ('tener', 'tener'), ('claro', 'claro'), ('qué', 'qué'), ('le', 'él'), ('depara', 'deparar'), ('el', 'el'), ('futuro', 'futuro'), ('.', '.'), ('Cuando', 'cuando'), ('se', 'él'), ('desata', 'desatar'), ('un', 'uno'), ('fuego', 'fuego'), ('en', 'en'), ('el', 'el'), ('pueblo', 'pueblo'), (',', ','), ('Hinako', 'Hinako'), ('conoce', 'conocer'), ('al', 'al'), ('joven', 'joven'), ('bombero', 'bombero'), ('Minato', 'Minato'), ('.', '.'), ('A', 'a'), ('medida', 'medida'), ('que', 'que'), ('ambos', 'ambos'), ('comparten', 'compartir'), ('su', 'su'), ('tiempo', 'tiempo'), ('mientras', 'mientras'), ('se', 'él'), ('dedican', 'dedicar'), ('a', 'a'), ('su', 'su'), ('deporte', 'deporte'), ('favorito', 'favorito'), (',', ','), ('Hinako', 'Hinako'), ('comienza', 'comenzar'), ('a', 'a'), ('darse', 'dar él'), ('cuenta', 'cuenta'), ('de', 'de'), ('que', 'que'), ('lo', 'él'), ('que', 'que'), ('más', 'más'), ('desea', 'desear'), ('en', 'en'), ('el', 'el'), ('mundo', 'mundo'), ('es', 'ser'), (',', ','), ('como', 'como'), ('Minato', 'Minato'), (',', ','), ('ayudar', 'ayudar'), ('a', 'a'), ('otras', 'otro'), ('personas', 'persona'), ('.', '.'), ('(', '('), ('FILMAFFINITY', 'FILMAFFINITY'), (')', ')')]\n"
          ]
        }
      ]
    },
    {
      "cell_type": "markdown",
      "source": [
        "# Conclusion\n",
        "En este ejemplo se compararon dos técnicas de procesamiento de lenguaje natural: stemming y lemmatización. Ambas se aplicaron a un mismo texto en español. El stemming, realizado con NLTK, mostró versiones recortadas de las palabras sin considerar su estructura gramatical ni su significado real. Por otro lado, la lemmatización, ejecutada con spaCy, devolvió las formas base correctas de las palabras, respetando su contexto gramatical."
      ],
      "metadata": {
        "id": "UwL9ZNw0uqge"
      }
    }
  ]
}
{
  "nbformat": 4,
  "nbformat_minor": 0,
  "metadata": {
    "colab": {
      "provenance": []
    },
    "kernelspec": {
      "name": "python3",
      "display_name": "Python 3"
    },
    "language_info": {
      "name": "python"
    }
  },
  "cells": [
    {
      "cell_type": "markdown",
      "source": [
        "<h1> Spacy</h1>\n",
        "\n",
        "Ahora haremos uso de Spacy para tokenizar textos , en lugar del nltk del ejercicio anterior."
      ],
      "metadata": {
        "id": "3GqtT4-39bSQ"
      }
    },
    {
      "cell_type": "code",
      "source": [
        "# Importamos las librerías\n",
        "import os        # Para manejar rutas y carpetas en el so\n",
        "import spacy     # Librería para procesamiento de lenguaje\n",
        "\n",
        "# Agarramos la carpeta base donde está instalado spacy\n",
        "basedir = os.path.dirname(spacy.__path__[0])\n",
        "\n",
        "# Vemos si el modelo está instalado\n",
        "# Lo buscamos dentro de la carpeta base + el nombre del modelo\n",
        "if not os.path.isdir(os.path.join(basedir, 'es_core_news_sm')):\n",
        "    # Si no está instalado, importamos la función para descargar modelos de spacy\n",
        "    from spacy.cli import download\n",
        "    # Y se descarga autoamticamente\n",
        "    download('es_core_news_sm')"
      ],
      "metadata": {
        "id": "G063stSO9fzV"
      },
      "execution_count": 2,
      "outputs": []
    },
    {
      "cell_type": "code",
      "source": [
        "# Cargamos el modelo\n",
        "nlp = spacy.load('es_core_news_sm')"
      ],
      "metadata": {
        "id": "CJdbDO9p_H88"
      },
      "execution_count": 3,
      "outputs": []
    },
    {
      "cell_type": "code",
      "source": [
        "# Cargo un texto defecto (El mismo de la pelicula de \"Memorias de un Caracol\" usado en la de procesado usando nltk)\n",
        "text = \"Australia, años 70. Grace Pudel es una niña solitaria e inadaptada, aficionada a coleccionar figuras decorativas de caracoles y con una devoción profunda por las novelas románticas. La muerte de su padre cuando tan solo es una niña, la lleva a tener que separarse de su hermano mellizo, Gilbert, lo que la aboca a una espiral de ansiedad y angustia. Sin embargo, la esperanza vuelve a su vida cuando conoce a una excéntrica anciana llena de determinación y amor por la vida llamada Pinky, con la que entablará una larga amistad que le cambiará la vida para siempre.\""
      ],
      "metadata": {
        "id": "I3sTFK1g_2Q2"
      },
      "execution_count": 6,
      "outputs": []
    },
    {
      "cell_type": "code",
      "source": [
        "doc = nlp(text) # Aplicamos el modelo\n",
        "for idx, token in enumerate(doc): # Recorremos y mostramos los primeros 4 tokens\n",
        "    print(token.text, \"→\", token.pos_)\n",
        "    if idx==3:\n",
        "        break"
      ],
      "metadata": {
        "colab": {
          "base_uri": "https://localhost:8080/",
          "height": 0
        },
        "id": "V9MRZpfX_TXa",
        "outputId": "ec73f713-a997-4bbc-fe0a-76c5066e4a41"
      },
      "execution_count": 8,
      "outputs": [
        {
          "output_type": "stream",
          "name": "stdout",
          "text": [
            "Australia → PROPN\n",
            ", → PUNCT\n",
            "años → NOUN\n",
            "70 → NUM\n"
          ]
        }
      ]
    },
    {
      "cell_type": "markdown",
      "source": [
        "\n",
        "\n",
        "---\n",
        "\n"
      ],
      "metadata": {
        "id": "OhHfE3_IAuYU"
      }
    },
    {
      "cell_type": "markdown",
      "source": [
        "#Conclusion\n",
        "\n",
        "Este código verifica si el modelo de español de spaCy está instalado, si no, lo descarga automáticamente. Luego carga el modelo para procesar texto en español. A continuación, aplica el modelo a un texto de ejemplo y muestra los primeros cuatro tokens, que pueden ser palabras o signos de puntuación, para comprobar que el texto se ha segmentado correctamente."
      ],
      "metadata": {
        "id": "bVFw6b_4Aixw"
      }
    }
  ]
}
{
  "nbformat": 4,
  "nbformat_minor": 0,
  "metadata": {
    "colab": {
      "provenance": []
    },
    "kernelspec": {
      "name": "python3",
      "display_name": "Python 3"
    },
    "language_info": {
      "name": "python"
    }
  },
  "cells": [
    {
      "cell_type": "markdown",
      "source": [
        "<h1>Tokenizacion</h1>\n",
        "Es el segmentar contenido en unidades mas pequeñas.\n",
        "Un libro en capitulos a parrafos a frases a palabras y caracteres."
      ],
      "metadata": {
        "id": "2WlXbW0lzfOp"
      }
    },
    {
      "cell_type": "markdown",
      "source": [
        "Para este ejemplo, usare la sinopsis de la pelicula de \"Memorias de un Caracol\" del portal  [Filmaffinity](https://www.filmaffinity.com/es/film734032.html)"
      ],
      "metadata": {
        "id": "K1_hMFT-0Fl3"
      }
    },
    {
      "cell_type": "code",
      "source": [
        "text = \"Australia, años 70. Grace Pudel es una niña solitaria e inadaptada, aficionada a coleccionar figuras decorativas de caracoles y con una devoción profunda por las novelas románticas. La muerte de su padre cuando tan solo es una niña, la lleva a tener que separarse de su hermano mellizo, Gilbert, lo que la aboca a una espiral de ansiedad y angustia. Sin embargo, la esperanza vuelve a su vida cuando conoce a una excéntrica anciana llena de determinación y amor por la vida llamada Pinky, con la que entablará una larga amistad que le cambiará la vida para siempre.\""
      ],
      "metadata": {
        "id": "tsKsAmzizylV"
      },
      "execution_count": 1,
      "outputs": []
    },
    {
      "cell_type": "code",
      "source": [
        "# Tokenizacion por frases\n",
        "sentences = text.split('.')\n",
        "\n",
        "for idx, word in enumerate(sentences):\n",
        "    print('Frase {0:5}{1:5}'.format(str(idx), word))\n",
        "    if idx==5:  # 5 Primeras frases\n",
        "        break"
      ],
      "metadata": {
        "colab": {
          "base_uri": "https://localhost:8080/",
          "height": 0
        },
        "id": "2JkdAMdM0eHV",
        "outputId": "38ce3911-d947-4bfa-cc0e-055a29543c92"
      },
      "execution_count": 7,
      "outputs": [
        {
          "output_type": "stream",
          "name": "stdout",
          "text": [
            "Frase 0    Australia, años 70\n",
            "Frase 1     Grace Pudel es una niña solitaria e inadaptada, aficionada a coleccionar figuras decorativas de caracoles y con una devoción profunda por las novelas románticas\n",
            "Frase 2     La muerte de su padre cuando tan solo es una niña, la lleva a tener que separarse de su hermano mellizo, Gilbert, lo que la aboca a una espiral de ansiedad y angustia\n",
            "Frase 3     Sin embargo, la esperanza vuelve a su vida cuando conoce a una excéntrica anciana llena de determinación y amor por la vida llamada Pinky, con la que entablará una larga amistad que le cambiará la vida para siempre\n",
            "Frase 4         \n"
          ]
        }
      ]
    },
    {
      "cell_type": "markdown",
      "source": [
        "A continuacion se tokenizara pero por palabras, siendo nuestro delimitador el espacio al final de cada secuencia de caracteres. (\" \")"
      ],
      "metadata": {
        "id": "DqBkzEhM1XM3"
      }
    },
    {
      "cell_type": "code",
      "source": [
        "# Tokenizacion por palabras\n",
        "sentences = text.split(' ')\n",
        "\n",
        "for idx, word in enumerate(sentences):\n",
        "    print('Palabra {0:5}{1:5}'.format(str(idx), word))\n",
        "    if idx==5:  # mostramos solo las 5 primeras palabras\n",
        "        break"
      ],
      "metadata": {
        "colab": {
          "base_uri": "https://localhost:8080/",
          "height": 0
        },
        "id": "EFPiXbwx1Jt7",
        "outputId": "d64e11af-7306-4aba-fe8a-2982b0130ec8"
      },
      "execution_count": 8,
      "outputs": [
        {
          "output_type": "stream",
          "name": "stdout",
          "text": [
            "Palabra 0    Australia,\n",
            "Palabra 1    años \n",
            "Palabra 2    70.  \n",
            "Palabra 3    Grace\n",
            "Palabra 4    Pudel\n",
            "Palabra 5    es   \n"
          ]
        }
      ]
    },
    {
      "cell_type": "markdown",
      "source": [
        "A continuacion usaremos la libreria NLTK , la cual podemos usar como alternativa en lugar de los arreglos y slices tradicionales de python"
      ],
      "metadata": {
        "id": "Uso1wnuz1sBj"
      }
    },
    {
      "cell_type": "code",
      "source": [
        "# Instalacion de liberias\n",
        "\n",
        "import nltk\n",
        "nltk.download('punkt_tab')\n",
        "\n",
        "from nltk.tokenize import sent_tokenize, word_tokenize\n"
      ],
      "metadata": {
        "colab": {
          "base_uri": "https://localhost:8080/",
          "height": 0
        },
        "id": "W6FAQxWK14az",
        "outputId": "3e0537ec-1dc3-40f7-86ab-390c43220a19"
      },
      "execution_count": 9,
      "outputs": [
        {
          "output_type": "stream",
          "name": "stderr",
          "text": [
            "[nltk_data] Downloading package punkt_tab to /root/nltk_data...\n",
            "[nltk_data]   Package punkt_tab is already up-to-date!\n"
          ]
        }
      ]
    },
    {
      "cell_type": "code",
      "source": [
        "# Mostramos la lista de frases usando el tokenizdor de nltk\n",
        "print(sent_tokenize(text))"
      ],
      "metadata": {
        "colab": {
          "base_uri": "https://localhost:8080/",
          "height": 0
        },
        "id": "MKwH-mlP7Nno",
        "outputId": "e13ec23b-b5d3-4e4a-e509-6c79a96866ac"
      },
      "execution_count": 10,
      "outputs": [
        {
          "output_type": "stream",
          "name": "stdout",
          "text": [
            "['Australia, años 70.', 'Grace Pudel es una niña solitaria e inadaptada, aficionada a coleccionar figuras decorativas de caracoles y con una devoción profunda por las novelas románticas.', 'La muerte de su padre cuando tan solo es una niña, la lleva a tener que separarse de su hermano mellizo, Gilbert, lo que la aboca a una espiral de ansiedad y angustia.', 'Sin embargo, la esperanza vuelve a su vida cuando conoce a una excéntrica anciana llena de determinación y amor por la vida llamada Pinky, con la que entablará una larga amistad que le cambiará la vida para siempre.']\n"
          ]
        }
      ]
    },
    {
      "cell_type": "code",
      "source": [
        "# Mostramos la lista de palabras usando el tokenizdor de nltk\n",
        "print(word_tokenize(text))"
      ],
      "metadata": {
        "colab": {
          "base_uri": "https://localhost:8080/",
          "height": 0
        },
        "id": "5ba-2lwH8CKV",
        "outputId": "d301e146-335d-44da-f16a-9499d491473e"
      },
      "execution_count": 11,
      "outputs": [
        {
          "output_type": "stream",
          "name": "stdout",
          "text": [
            "['Australia', ',', 'años', '70', '.', 'Grace', 'Pudel', 'es', 'una', 'niña', 'solitaria', 'e', 'inadaptada', ',', 'aficionada', 'a', 'coleccionar', 'figuras', 'decorativas', 'de', 'caracoles', 'y', 'con', 'una', 'devoción', 'profunda', 'por', 'las', 'novelas', 'románticas', '.', 'La', 'muerte', 'de', 'su', 'padre', 'cuando', 'tan', 'solo', 'es', 'una', 'niña', ',', 'la', 'lleva', 'a', 'tener', 'que', 'separarse', 'de', 'su', 'hermano', 'mellizo', ',', 'Gilbert', ',', 'lo', 'que', 'la', 'aboca', 'a', 'una', 'espiral', 'de', 'ansiedad', 'y', 'angustia', '.', 'Sin', 'embargo', ',', 'la', 'esperanza', 'vuelve', 'a', 'su', 'vida', 'cuando', 'conoce', 'a', 'una', 'excéntrica', 'anciana', 'llena', 'de', 'determinación', 'y', 'amor', 'por', 'la', 'vida', 'llamada', 'Pinky', ',', 'con', 'la', 'que', 'entablará', 'una', 'larga', 'amistad', 'que', 'le', 'cambiará', 'la', 'vida', 'para', 'siempre', '.']\n"
          ]
        }
      ]
    }
  ]
}